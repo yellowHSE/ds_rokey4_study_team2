{
  "nbformat": 4,
  "nbformat_minor": 0,
  "metadata": {
    "colab": {
      "provenance": [],
      "gpuType": "T4"
    },
    "kernelspec": {
      "name": "python3",
      "display_name": "Python 3"
    },
    "language_info": {
      "name": "python"
    },
    "accelerator": "GPU"
  },
  "cells": [
    {
      "cell_type": "code",
      "source": [
        "import numpy as np\n",
        "import torch\n",
        "import torch.nn as nn\n",
        "import torch.optim as optim\n",
        "from torch.utils.data import TensorDataset, DataLoader\n",
        "from tensorflow.keras.datasets import mnist\n",
        "from tensorflow.keras import regularizers\n",
        "import matplotlib.pyplot as plt\n"
      ],
      "metadata": {
        "id": "0q71GLWyMBKq"
      },
      "execution_count": null,
      "outputs": []
    },
    {
      "cell_type": "code",
      "source": [
        "# 1. Keras에서 MNIST 데이터 로드\n",
        "(train_images, train_labels), (test_images, test_labels) = mnist.load_data()\n",
        "\n",
        "# 데이터 전처리\n",
        "train_images = train_images.astype('float32') / 255.0\n",
        "test_images = test_images.astype('float32') / 255.0\n",
        "train_images = np.expand_dims(train_images, axis=-1)  # 채널 차원 추가\n",
        "test_images = np.expand_dims(test_images, axis=-1)\n",
        "\n",
        "# NumPy 배열을 PyTorch 텐서로 변환\n",
        "train_images_tensor = torch.FloatTensor(train_images.transpose(0, 3, 1, 2))  # (N, C, H, W) 형식으로\n",
        "train_labels_tensor = torch.LongTensor(train_labels)\n",
        "test_images_tensor = torch.FloatTensor(test_images.transpose(0, 3, 1, 2))\n",
        "test_labels_tensor = torch.LongTensor(test_labels)\n",
        "\n",
        "# DataLoader 생성\n",
        "batch_size = 128\n",
        "train_dataset = TensorDataset(train_images_tensor, train_labels_tensor)\n",
        "train_loader = DataLoader(train_dataset, batch_size=batch_size, shuffle=True)\n",
        "test_dataset = TensorDataset(test_images_tensor, test_labels_tensor)\n",
        "test_loader = DataLoader(test_dataset, batch_size=batch_size, shuffle=False)"
      ],
      "metadata": {
        "colab": {
          "base_uri": "https://localhost:8080/"
        },
        "id": "3FReOLhAMC6a",
        "outputId": "d7d68aa9-3f92-4877-e4f0-8674085d7299"
      },
      "execution_count": null,
      "outputs": [
        {
          "output_type": "stream",
          "name": "stdout",
          "text": [
            "Downloading data from https://storage.googleapis.com/tensorflow/tf-keras-datasets/mnist.npz\n",
            "\u001b[1m11490434/11490434\u001b[0m \u001b[32m━━━━━━━━━━━━━━━━━━━━\u001b[0m\u001b[37m\u001b[0m \u001b[1m0s\u001b[0m 0us/step\n"
          ]
        }
      ]
    },
    {
      "cell_type": "code",
      "source": [
        "class KerasLikeCNN(nn.Module):\n",
        "    def __init__(self, num_classes=10):\n",
        "        super(KerasLikeCNN, self).__init__()\n",
        "\n",
        "        # 첫 번째 컨볼루션 블록\n",
        "        self.conv_block1 = nn.Sequential(\n",
        "            nn.Conv2d(1, 32, kernel_size=3, padding=1),\n",
        "            nn.BatchNorm2d(32),\n",
        "            nn.ReLU(),\n",
        "            nn.Conv2d(32, 32, kernel_size=3, padding=1),\n",
        "            nn.BatchNorm2d(32),\n",
        "            nn.ReLU(),\n",
        "            nn.MaxPool2d(2),\n",
        "            nn.Dropout(0.25)\n",
        "        )\n",
        "\n",
        "        # 두 번째 컨볼루션 블록\n",
        "        self.conv_block2 = nn.Sequential(\n",
        "            nn.Conv2d(32, 64, kernel_size=3, padding=1),\n",
        "            nn.BatchNorm2d(64),\n",
        "            nn.ReLU(),\n",
        "            nn.Conv2d(64, 64, kernel_size=3, padding=1),\n",
        "            nn.BatchNorm2d(64),\n",
        "            nn.ReLU(),\n",
        "            nn.MaxPool2d(2),\n",
        "            nn.Dropout(0.25)\n",
        "        )\n",
        "\n",
        "        # 세 번째 컨볼루션 블록\n",
        "        self.conv_block3 = nn.Sequential(\n",
        "            nn.Conv2d(64, 128, kernel_size=3, padding=1),\n",
        "            nn.BatchNorm2d(128),\n",
        "            nn.ReLU(),\n",
        "            nn.Conv2d(128, 128, kernel_size=3, padding=1),\n",
        "            nn.BatchNorm2d(128),\n",
        "            nn.ReLU(),\n",
        "            nn.MaxPool2d(2),\n",
        "            nn.Dropout(0.25)\n",
        "        )\n",
        "\n",
        "        # 완전 연결 층\n",
        "        self.fc = nn.Sequential(\n",
        "            nn.Flatten(),\n",
        "            nn.Linear(128*3*3, 256),  # MaxPool 3번 적용 후 크기: 28 -> 14 -> 7 -> 3 (3.5는 내림)\n",
        "            nn.BatchNorm1d(256),\n",
        "            nn.ReLU(),\n",
        "            nn.Dropout(0.5),\n",
        "            nn.Linear(256, 128),\n",
        "            nn.BatchNorm1d(128),\n",
        "            nn.ReLU(),\n",
        "            nn.Dropout(0.5),\n",
        "            nn.Linear(128, num_classes)\n",
        "        )\n",
        "\n",
        "        # L2 정규화를 위한 옵티마이저 파라미터\n",
        "        self.l2_lambda = 0.001\n",
        "\n",
        "    def forward(self, x):\n",
        "        x = self.conv_block1(x)\n",
        "        x = self.conv_block2(x)\n",
        "        x = self.conv_block3(x)\n",
        "        x = self.fc(x)\n",
        "        return x\n",
        "\n",
        "    # L2 정규화 계산 (Keras의 kernel_regularizer=l2(0.001) 구현)\n",
        "    def l2_regularization(self):\n",
        "        l2_reg = torch.tensor(0.).to(device)\n",
        "        for param in self.parameters():\n",
        "            l2_reg += torch.norm(param, p=2)\n",
        "        return self.l2_lambda * l2_reg\n"
      ],
      "metadata": {
        "id": "R0FTg7D2MC33"
      },
      "execution_count": null,
      "outputs": []
    },
    {
      "cell_type": "code",
      "source": [
        "device = torch.device(\"cuda\" if torch.cuda.is_available() else \"cpu\")\n",
        "model = KerasLikeCNN().to(device)"
      ],
      "metadata": {
        "id": "5CkYvahIMC09"
      },
      "execution_count": null,
      "outputs": []
    },
    {
      "cell_type": "code",
      "source": [
        "criterion = nn.CrossEntropyLoss()\n",
        "optimizer = optim.Adam(model.parameters(), lr=0.001)"
      ],
      "metadata": {
        "id": "-FyGlpeLMCv9"
      },
      "execution_count": null,
      "outputs": []
    },
    {
      "cell_type": "code",
      "source": [
        "def train(model, device, train_loader, optimizer, criterion, epoch):\n",
        "    model.train()\n",
        "    train_loss = 0\n",
        "    correct = 0\n",
        "    total = 0\n",
        "\n",
        "    for batch_idx, (data, target) in enumerate(train_loader):\n",
        "        data, target = data.to(device), target.to(device)\n",
        "\n",
        "        optimizer.zero_grad()\n",
        "        output = model(data)\n",
        "        loss = criterion(output, target) + model.l2_regularization()  # L2 정규화 추가\n",
        "        loss.backward()\n",
        "        optimizer.step()\n",
        "\n",
        "        train_loss += loss.item()\n",
        "        _, predicted = output.max(1)\n",
        "        total += target.size(0)\n",
        "        correct += predicted.eq(target).sum().item()\n",
        "\n",
        "    accuracy = 100. * correct / total\n",
        "    avg_loss = train_loss / len(train_loader)\n",
        "\n",
        "    print(f'Train Epoch: {epoch} | Loss: {avg_loss:.4f} | Accuracy: {accuracy:.2f}%')\n",
        "    return avg_loss, accuracy"
      ],
      "metadata": {
        "id": "tpF8om9tMCiV"
      },
      "execution_count": null,
      "outputs": []
    },
    {
      "cell_type": "code",
      "source": [
        "#테스트 함수\n",
        "def test(model, device, test_loader, criterion):\n",
        "    model.eval()\n",
        "    test_loss = 0\n",
        "    correct = 0\n",
        "    total = 0\n",
        "\n",
        "    with torch.no_grad():\n",
        "        for data, target in test_loader:\n",
        "            data, target = data.to(device), target.to(device)\n",
        "            output = model(data)\n",
        "            test_loss += criterion(output, target).item()\n",
        "            _, predicted = output.max(1)\n",
        "            total += target.size(0)\n",
        "            correct += predicted.eq(target).sum().item()\n",
        "\n",
        "    accuracy = 100. * correct / total\n",
        "    avg_loss = test_loss / len(test_loader)\n",
        "\n",
        "    print(f'Test set: Average loss: {avg_loss:.4f}, Accuracy: {correct}/{total} ({accuracy:.2f}%)')\n",
        "    return avg_loss, accuracy\n"
      ],
      "metadata": {
        "id": "aSId5v3NMcId"
      },
      "execution_count": null,
      "outputs": []
    },
    {
      "cell_type": "code",
      "source": [
        "'''\n",
        "epochs = 50\n",
        "train_losses = []\n",
        "test_losses = []\n",
        "train_accuracies = []\n",
        "test_accuracies = []\n",
        "\n",
        "for epoch in range(1, epochs + 1):\n",
        "    train_loss, train_acc = train(model, device, train_loader, optimizer, criterion, epoch)\n",
        "    test_loss, test_acc = test(model, device, test_loader, criterion)\n",
        "\n",
        "    train_losses.append(train_loss)\n",
        "    test_losses.append(test_loss)\n",
        "    train_accuracies.append(train_acc)\n",
        "    test_accuracies.append(test_acc)\n",
        "\n",
        "'''\n",
        "\n",
        "from copy import deepcopy\n",
        "\n",
        "# 최고 성능 모델 저장을 위한 변수 초기화\n",
        "best_accuracy = 0.0\n",
        "best_model_state = None\n",
        "\n",
        "epochs = 50\n",
        "train_losses = []\n",
        "test_losses = []\n",
        "train_accuracies = []\n",
        "test_accuracies = []\n",
        "\n",
        "for epoch in range(1, epochs + 1):\n",
        "    train_loss, train_acc = train(model, device, train_loader, optimizer, criterion, epoch)\n",
        "    test_loss, test_acc = test(model, device, test_loader, criterion)\n",
        "\n",
        "    train_losses.append(train_loss)\n",
        "    test_losses.append(test_loss)\n",
        "    train_accuracies.append(train_acc)\n",
        "    test_accuracies.append(test_acc)\n",
        "\n",
        "    # 최고 정확도 모델 저장\n",
        "    if test_acc > best_accuracy:\n",
        "        print(f'Test accuracy improved from {best_accuracy:.2f}% to {test_acc:.2f}%. Saving model...')\n",
        "        best_accuracy = test_acc\n",
        "        best_model_state = deepcopy(model.state_dict())\n",
        "\n",
        "        # 모델 저장 (Google Colab에서는 Google Drive에 저장하는 것이 좋음)\n",
        "        torch.save({\n",
        "            'epoch': epoch,\n",
        "            'model_state_dict': best_model_state,\n",
        "            'optimizer_state_dict': optimizer.state_dict(),\n",
        "            'train_accuracy': train_acc,\n",
        "            'test_accuracy': test_acc,\n",
        "            'train_loss': train_loss,\n",
        "            'test_loss': test_loss,\n",
        "        }, 'best_model.pth')\n",
        "\n",
        "# 훈련 종료 후 최고 성능 모델로 복원\n",
        "if best_model_state is not None:\n",
        "    model.load_state_dict(best_model_state)\n",
        "    print(f'\\nLoaded best model with test accuracy: {best_accuracy:.2f}%')\n",
        "\n",
        "# 최종 평가\n",
        "final_test_loss, final_test_acc = test(model, device, test_loader, criterion)\n",
        "print(f'\\nFinal Model - Test Accuracy: {final_test_acc:.2f}% | Test Loss: {final_test_loss:.4f}')"
      ],
      "metadata": {
        "colab": {
          "base_uri": "https://localhost:8080/"
        },
        "id": "2rePOeDdMijs",
        "outputId": "2344c802-2e7a-4779-b524-19bb9949140a"
      },
      "execution_count": null,
      "outputs": [
        {
          "output_type": "stream",
          "name": "stdout",
          "text": [
            "Train Epoch: 1 | Loss: 0.4220 | Accuracy: 92.44%\n",
            "Test set: Average loss: 0.0361, Accuracy: 9889/10000 (98.89%)\n",
            "Test accuracy improved from 0.00% to 98.89%. Saving model...\n",
            "Train Epoch: 2 | Loss: 0.2081 | Accuracy: 98.05%\n",
            "Test set: Average loss: 0.0314, Accuracy: 9903/10000 (99.03%)\n",
            "Test accuracy improved from 98.89% to 99.03%. Saving model...\n",
            "Train Epoch: 3 | Loss: 0.1941 | Accuracy: 98.49%\n",
            "Test set: Average loss: 0.0227, Accuracy: 9933/10000 (99.33%)\n",
            "Test accuracy improved from 99.03% to 99.33%. Saving model...\n",
            "Train Epoch: 4 | Loss: 0.1871 | Accuracy: 98.67%\n",
            "Test set: Average loss: 0.0210, Accuracy: 9932/10000 (99.32%)\n",
            "Train Epoch: 5 | Loss: 0.1828 | Accuracy: 98.80%\n",
            "Test set: Average loss: 0.0219, Accuracy: 9938/10000 (99.38%)\n",
            "Test accuracy improved from 99.33% to 99.38%. Saving model...\n",
            "Train Epoch: 6 | Loss: 0.1806 | Accuracy: 98.91%\n",
            "Test set: Average loss: 0.0242, Accuracy: 9928/10000 (99.28%)\n",
            "Train Epoch: 7 | Loss: 0.1794 | Accuracy: 98.87%\n",
            "Test set: Average loss: 0.0196, Accuracy: 9937/10000 (99.37%)\n",
            "Train Epoch: 8 | Loss: 0.1776 | Accuracy: 98.99%\n",
            "Test set: Average loss: 0.0148, Accuracy: 9952/10000 (99.52%)\n",
            "Test accuracy improved from 99.38% to 99.52%. Saving model...\n",
            "Train Epoch: 9 | Loss: 0.1748 | Accuracy: 99.08%\n",
            "Test set: Average loss: 0.0186, Accuracy: 9947/10000 (99.47%)\n",
            "Train Epoch: 10 | Loss: 0.1747 | Accuracy: 99.07%\n",
            "Test set: Average loss: 0.0233, Accuracy: 9938/10000 (99.38%)\n",
            "Train Epoch: 11 | Loss: 0.1760 | Accuracy: 99.05%\n",
            "Test set: Average loss: 0.0190, Accuracy: 9942/10000 (99.42%)\n",
            "Train Epoch: 12 | Loss: 0.1731 | Accuracy: 99.11%\n",
            "Test set: Average loss: 0.0194, Accuracy: 9936/10000 (99.36%)\n",
            "Train Epoch: 13 | Loss: 0.1730 | Accuracy: 99.11%\n",
            "Test set: Average loss: 0.0162, Accuracy: 9951/10000 (99.51%)\n",
            "Train Epoch: 14 | Loss: 0.1713 | Accuracy: 99.16%\n",
            "Test set: Average loss: 0.0221, Accuracy: 9939/10000 (99.39%)\n",
            "Train Epoch: 15 | Loss: 0.1714 | Accuracy: 99.10%\n",
            "Test set: Average loss: 0.0165, Accuracy: 9947/10000 (99.47%)\n",
            "Train Epoch: 16 | Loss: 0.1674 | Accuracy: 99.24%\n",
            "Test set: Average loss: 0.0168, Accuracy: 9956/10000 (99.56%)\n",
            "Test accuracy improved from 99.52% to 99.56%. Saving model...\n",
            "Train Epoch: 17 | Loss: 0.1691 | Accuracy: 99.19%\n",
            "Test set: Average loss: 0.0223, Accuracy: 9931/10000 (99.31%)\n",
            "Train Epoch: 18 | Loss: 0.1638 | Accuracy: 99.31%\n",
            "Test set: Average loss: 0.0178, Accuracy: 9950/10000 (99.50%)\n",
            "Train Epoch: 19 | Loss: 0.1649 | Accuracy: 99.17%\n",
            "Test set: Average loss: 0.0196, Accuracy: 9947/10000 (99.47%)\n",
            "Train Epoch: 20 | Loss: 0.1620 | Accuracy: 99.23%\n",
            "Test set: Average loss: 0.0229, Accuracy: 9928/10000 (99.28%)\n",
            "Train Epoch: 21 | Loss: 0.1636 | Accuracy: 99.17%\n",
            "Test set: Average loss: 0.0211, Accuracy: 9940/10000 (99.40%)\n",
            "Train Epoch: 22 | Loss: 0.1595 | Accuracy: 99.30%\n",
            "Test set: Average loss: 0.0211, Accuracy: 9948/10000 (99.48%)\n",
            "Train Epoch: 23 | Loss: 0.1587 | Accuracy: 99.26%\n",
            "Test set: Average loss: 0.0168, Accuracy: 9944/10000 (99.44%)\n",
            "Train Epoch: 24 | Loss: 0.1591 | Accuracy: 99.19%\n",
            "Test set: Average loss: 0.0181, Accuracy: 9954/10000 (99.54%)\n",
            "Train Epoch: 25 | Loss: 0.1566 | Accuracy: 99.25%\n",
            "Test set: Average loss: 0.0164, Accuracy: 9945/10000 (99.45%)\n",
            "Train Epoch: 26 | Loss: 0.1553 | Accuracy: 99.30%\n",
            "Test set: Average loss: 0.0193, Accuracy: 9941/10000 (99.41%)\n",
            "Train Epoch: 27 | Loss: 0.1524 | Accuracy: 99.34%\n",
            "Test set: Average loss: 0.0170, Accuracy: 9949/10000 (99.49%)\n",
            "Train Epoch: 28 | Loss: 0.1524 | Accuracy: 99.28%\n",
            "Test set: Average loss: 0.0196, Accuracy: 9941/10000 (99.41%)\n",
            "Train Epoch: 29 | Loss: 0.1515 | Accuracy: 99.30%\n",
            "Test set: Average loss: 0.0186, Accuracy: 9947/10000 (99.47%)\n",
            "Train Epoch: 30 | Loss: 0.1489 | Accuracy: 99.34%\n",
            "Test set: Average loss: 0.0155, Accuracy: 9955/10000 (99.55%)\n",
            "Train Epoch: 31 | Loss: 0.1469 | Accuracy: 99.33%\n",
            "Test set: Average loss: 0.0154, Accuracy: 9958/10000 (99.58%)\n",
            "Test accuracy improved from 99.56% to 99.58%. Saving model...\n",
            "Train Epoch: 32 | Loss: 0.1468 | Accuracy: 99.31%\n",
            "Test set: Average loss: 0.0166, Accuracy: 9952/10000 (99.52%)\n",
            "Train Epoch: 33 | Loss: 0.1446 | Accuracy: 99.32%\n",
            "Test set: Average loss: 0.0177, Accuracy: 9950/10000 (99.50%)\n",
            "Train Epoch: 34 | Loss: 0.1446 | Accuracy: 99.30%\n",
            "Test set: Average loss: 0.0209, Accuracy: 9939/10000 (99.39%)\n",
            "Train Epoch: 35 | Loss: 0.1415 | Accuracy: 99.37%\n",
            "Test set: Average loss: 0.0178, Accuracy: 9944/10000 (99.44%)\n",
            "Train Epoch: 36 | Loss: 0.1435 | Accuracy: 99.29%\n",
            "Test set: Average loss: 0.0228, Accuracy: 9935/10000 (99.35%)\n",
            "Train Epoch: 37 | Loss: 0.1409 | Accuracy: 99.36%\n",
            "Test set: Average loss: 0.0157, Accuracy: 9954/10000 (99.54%)\n",
            "Train Epoch: 38 | Loss: 0.1400 | Accuracy: 99.36%\n",
            "Test set: Average loss: 0.0195, Accuracy: 9941/10000 (99.41%)\n",
            "Train Epoch: 39 | Loss: 0.1398 | Accuracy: 99.31%\n",
            "Test set: Average loss: 0.0155, Accuracy: 9953/10000 (99.53%)\n",
            "Train Epoch: 40 | Loss: 0.1387 | Accuracy: 99.35%\n",
            "Test set: Average loss: 0.0215, Accuracy: 9937/10000 (99.37%)\n",
            "Train Epoch: 41 | Loss: 0.1369 | Accuracy: 99.38%\n",
            "Test set: Average loss: 0.0179, Accuracy: 9949/10000 (99.49%)\n",
            "Train Epoch: 42 | Loss: 0.1353 | Accuracy: 99.38%\n",
            "Test set: Average loss: 0.0137, Accuracy: 9954/10000 (99.54%)\n",
            "Train Epoch: 43 | Loss: 0.1346 | Accuracy: 99.40%\n",
            "Test set: Average loss: 0.0179, Accuracy: 9947/10000 (99.47%)\n",
            "Train Epoch: 44 | Loss: 0.1361 | Accuracy: 99.32%\n",
            "Test set: Average loss: 0.0196, Accuracy: 9936/10000 (99.36%)\n",
            "Train Epoch: 45 | Loss: 0.1328 | Accuracy: 99.41%\n",
            "Test set: Average loss: 0.0264, Accuracy: 9923/10000 (99.23%)\n",
            "Train Epoch: 46 | Loss: 0.1332 | Accuracy: 99.36%\n",
            "Test set: Average loss: 0.0148, Accuracy: 9957/10000 (99.57%)\n",
            "Train Epoch: 47 | Loss: 0.1302 | Accuracy: 99.48%\n",
            "Test set: Average loss: 0.0163, Accuracy: 9957/10000 (99.57%)\n",
            "Train Epoch: 48 | Loss: 0.1320 | Accuracy: 99.38%\n",
            "Test set: Average loss: 0.0201, Accuracy: 9947/10000 (99.47%)\n",
            "Train Epoch: 49 | Loss: 0.1318 | Accuracy: 99.39%\n",
            "Test set: Average loss: 0.0228, Accuracy: 9931/10000 (99.31%)\n",
            "Train Epoch: 50 | Loss: 0.1305 | Accuracy: 99.41%\n",
            "Test set: Average loss: 0.0165, Accuracy: 9951/10000 (99.51%)\n",
            "\n",
            "Loaded best model with test accuracy: 99.58%\n",
            "Test set: Average loss: 0.0154, Accuracy: 9958/10000 (99.58%)\n",
            "\n",
            "Final Model - Test Accuracy: 99.58% | Test Loss: 0.0154\n"
          ]
        }
      ]
    },
    {
      "cell_type": "code",
      "execution_count": null,
      "metadata": {
        "colab": {
          "base_uri": "https://localhost:8080/",
          "height": 507
        },
        "id": "-a9G_Yq82mqv",
        "outputId": "09f20a9e-325d-4589-fa8d-4ba325ae3b0b"
      },
      "outputs": [
        {
          "output_type": "display_data",
          "data": {
            "text/plain": [
              "<Figure size 1200x500 with 2 Axes>"
            ],
            "image/png": "[encoded data removed]"
          },
          "metadata": {}
        }
      ],
      "source": [
        "\n",
        "#  결과 시각화\n",
        "plt.figure(figsize=(12, 5))\n",
        "plt.subplot(1, 2, 1)\n",
        "plt.plot(train_losses, label='Train')\n",
        "plt.plot(test_losses, label='Test')\n",
        "plt.title('Loss over epochs')\n",
        "plt.xlabel('Epoch')\n",
        "plt.ylabel('Loss')\n",
        "plt.legend()\n",
        "\n",
        "plt.subplot(1, 2, 2)\n",
        "plt.plot(train_accuracies, label='Train')\n",
        "plt.plot(test_accuracies, label='Test')\n",
        "plt.title('Accuracy over epochs')\n",
        "plt.xlabel('Epoch')\n",
        "plt.ylabel('Accuracy (%)')\n",
        "plt.legend()\n",
        "\n",
        "plt.tight_layout()\n",
        "plt.show()"
      ]
    },
    {
      "cell_type": "code",
      "source": [
        "#TEST데이터 정확도\n",
        "model.eval()\n",
        "\n",
        "correct = 0\n",
        "total = 0\n",
        "\n",
        "with torch.no_grad():  # 그래디언트 계산 비활성화\n",
        "    for data, target in test_loader:\n",
        "        data, target = data.to(device), target.to(device)\n",
        "        outputs = model(data)\n",
        "        _, predicted = torch.max(outputs.data, 1)\n",
        "        total += target.size(0)\n",
        "        correct += (predicted == target).sum().item()\n",
        "\n",
        "test_accuracy = 100 * correct / total\n",
        "print(f'Test Accuracy: {test_accuracy:.2f}%')"
      ],
      "metadata": {
        "colab": {
          "base_uri": "https://localhost:8080/"
        },
        "id": "Lx-gB73w3Y2I",
        "outputId": "fcf427d1-bae5-4057-a087-ac91d3ab1887"
      },
      "execution_count": null,
      "outputs": [
        {
          "output_type": "stream",
          "name": "stdout",
          "text": [
            "Test Accuracy: 99.58%\n"
          ]
        }
      ]
    },
    {
      "cell_type": "code",
      "source": [],
      "metadata": {
        "id": "LgR3cXgT74o8"
      },
      "execution_count": null,
      "outputs": []
    }
  ]
}